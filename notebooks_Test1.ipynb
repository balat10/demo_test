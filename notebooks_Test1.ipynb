{
  "metadata": {
    "language_info": {
      "codemirror_mode": {
        "name": "python",
        "version": 3
      },
      "file_extension": ".py",
      "mimetype": "text/x-python",
      "name": "python",
      "nbconvert_exporter": "python",
      "pygments_lexer": "ipython3",
      "version": "3.8"
    },
    "kernelspec": {
      "name": "python",
      "display_name": "Python (Pyodide)",
      "language": "python"
    }
  },
  "nbformat_minor": 4,
  "nbformat": 4,
  "cells": [
    {
      "cell_type": "markdown",
      "source": "# My Jupyter Notebook on IBM Watson Studio",
      "metadata": {}
    },
    {
      "cell_type": "markdown",
      "source": "# Balamurugan Thulasingam\n# Technical Advisor",
      "metadata": {}
    },
    {
      "cell_type": "markdown",
      "source": "# I'm interested in data science because there are lot of data currently available in my organisation which is currently not used to that great extent which i beleive could be used to make sense of with this skill ",
      "metadata": {}
    },
    {
      "cell_type": "markdown",
      "source": "# Print my name",
      "metadata": {}
    },
    {
      "cell_type": "code",
      "source": "print (\"balamurugan thulasingam\")",
      "metadata": {
        "trusted": true
      },
      "execution_count": 1,
      "outputs": [
        {
          "name": "stdout",
          "text": "balamurugan thulasingam\n",
          "output_type": "stream"
        }
      ]
    },
    {
      "cell_type": "markdown",
      "source": "",
      "metadata": {}
    }
  ]
}